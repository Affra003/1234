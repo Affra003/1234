{
  "nbformat": 4,
  "nbformat_minor": 0,
  "metadata": {
    "colab": {
      "provenance": [],
      "authorship_tag": "ABX9TyO4cXVAELt6ZTDVniFxjBLr",
      "include_colab_link": true
    },
    "kernelspec": {
      "name": "python3",
      "display_name": "Python 3"
    },
    "language_info": {
      "name": "python"
    }
  },
  "cells": [
    {
      "cell_type": "markdown",
      "metadata": {
        "id": "view-in-github",
        "colab_type": "text"
      },
      "source": [
        "<a href=\"https://colab.research.google.com/github/Affra003/1234/blob/main/genNUMPY.ipynb\" target=\"_parent\"><img src=\"https://colab.research.google.com/assets/colab-badge.svg\" alt=\"Open In Colab\"/></a>"
      ]
    },
    {
      "cell_type": "code",
      "execution_count": null,
      "metadata": {
        "colab": {
          "base_uri": "https://localhost:8080/"
        },
        "id": "hHBimnjyJp4a",
        "outputId": "2685d2e4-3ea3-4f0b-c58e-6e1790baa2dd"
      },
      "outputs": [
        {
          "output_type": "stream",
          "name": "stdout",
          "text": [
            "The array over the given range is  [0 1 2 3 4 5 6 7 8 9]\n"
          ]
        }
      ],
      "source": [
        "import numpy as np\n",
        "arr = np.arange(10)\n",
        "print(\"The array over the given range is \",arr)\n"
      ]
    },
    {
      "cell_type": "code",
      "source": [],
      "metadata": {
        "id": "NNhvwbmqWPXs"
      },
      "execution_count": null,
      "outputs": []
    },
    {
      "cell_type": "code",
      "source": [
        "import numpy as np\n",
        "arr = np.arange(0,10,2,float)\n",
        "print(arr)\n"
      ],
      "metadata": {
        "colab": {
          "base_uri": "https://localhost:8080/"
        },
        "id": "Udy946LEKJkt",
        "outputId": "5168fbaf-ef6e-4922-b110-2fb847c48d0a"
      },
      "execution_count": null,
      "outputs": [
        {
          "output_type": "stream",
          "name": "stdout",
          "text": [
            "[0. 2. 4. 6. 8.]\n"
          ]
        }
      ]
    },
    {
      "cell_type": "code",
      "source": [
        "import numpy as np\n",
        "arr = np.arange(10,100,5,float)\n",
        "print(\"The array over the given range is \",arr)"
      ],
      "metadata": {
        "colab": {
          "base_uri": "https://localhost:8080/"
        },
        "id": "Z0K68_UVKOCh",
        "outputId": "b00735e9-f9c9-4868-fe21-d45a106f622b"
      },
      "execution_count": null,
      "outputs": [
        {
          "output_type": "stream",
          "name": "stdout",
          "text": [
            "The array over the given range is  [10. 15. 20. 25. 30. 35. 40. 45. 50. 55. 60. 65. 70. 75. 80. 85. 90. 95.]\n"
          ]
        }
      ]
    },
    {
      "cell_type": "code",
      "source": [
        "# give non predictiable value -- used in generating otp\n",
        "import numpy as np\n",
        "\n",
        "x = np.random.rand(10)# one dimension array\n",
        "\n",
        "print(x)\n"
      ],
      "metadata": {
        "colab": {
          "base_uri": "https://localhost:8080/"
        },
        "id": "VXHbEq0mLcme",
        "outputId": "b9c571f9-1267-4db0-c9b4-976131d60015"
      },
      "execution_count": null,
      "outputs": [
        {
          "output_type": "stream",
          "name": "stdout",
          "text": [
            "[0.56872097 0.37148265 0.23311521 0.04998046 0.30975733 0.1509896\n",
            " 0.04457741 0.84852126 0.95708804 0.29911905]\n"
          ]
        }
      ]
    },
    {
      "cell_type": "code",
      "source": [
        "import numpy as np\n",
        "\n",
        "x = np.random.rand(100)# one dimension array\n",
        "\n",
        "print(x)"
      ],
      "metadata": {
        "colab": {
          "base_uri": "https://localhost:8080/"
        },
        "id": "7bEyDJTpLnvG",
        "outputId": "75d3b0b0-fd1a-4d74-ca08-6e2b384100bf"
      },
      "execution_count": null,
      "outputs": [
        {
          "output_type": "stream",
          "name": "stdout",
          "text": [
            "[0.24963677 0.91295735 0.34486284 0.42785024 0.97284622 0.54205146\n",
            " 0.87744423 0.25512538 0.48547382 0.60696462 0.28445905 0.76447305\n",
            " 0.6403161  0.02031669 0.19185746 0.71904989 0.65862328 0.63419439\n",
            " 0.23949792 0.24944474 0.30421956 0.22805657 0.65386314 0.34072325\n",
            " 0.15718177 0.40496164 0.33366923 0.85618729 0.92204512 0.86386186\n",
            " 0.25714337 0.64748054 0.17829629 0.1911092  0.92158164 0.90895368\n",
            " 0.08767731 0.06084471 0.00345163 0.81160105 0.53250423 0.71944939\n",
            " 0.10686253 0.68627525 0.78884403 0.42907984 0.25982092 0.9855882\n",
            " 0.90900668 0.48203825 0.3561321  0.43510583 0.63537357 0.39640064\n",
            " 0.13200218 0.03080402 0.23309641 0.09448613 0.40302192 0.0087331\n",
            " 0.71994339 0.20820707 0.02463329 0.06850351 0.98341723 0.73930262\n",
            " 0.04858951 0.65832992 0.43019577 0.22651098 0.70336487 0.6737292\n",
            " 0.27363633 0.89705658 0.12574076 0.68348099 0.84958468 0.90680873\n",
            " 0.0390671  0.58507335 0.38205389 0.02186623 0.90478309 0.86255521\n",
            " 0.28046255 0.64157505 0.43132325 0.30138318 0.32770946 0.68288436\n",
            " 0.88501447 0.27317597 0.65816199 0.42021229 0.52015339 0.63638316\n",
            " 0.8876203  0.44279177 0.50998953 0.97203121]\n"
          ]
        }
      ]
    },
    {
      "cell_type": "code",
      "source": [
        "#Shuffle\n",
        "from numpy import random\n",
        "import numpy as np\n",
        "\n",
        "a= np.array([1, 2, 3, 4, 5])\n",
        "\n",
        "random.shuffle(a)\n",
        "\n",
        "print(a)\n"
      ],
      "metadata": {
        "colab": {
          "base_uri": "https://localhost:8080/"
        },
        "id": "0Tq3UKeeMejX",
        "outputId": "c9660ab7-1d65-49e6-f705-6a7ba3818268"
      },
      "execution_count": null,
      "outputs": [
        {
          "output_type": "stream",
          "name": "stdout",
          "text": [
            "[5 2 4 3 1]\n"
          ]
        }
      ]
    },
    {
      "cell_type": "code",
      "source": [
        "#REMOVE\n",
        "from numpy import random\n",
        "import numpy as np\n",
        "\n",
        "a= np.array([1, 2, 3, 4, 5])\n",
        "a=a.tolist()\n",
        "a.remove(4)\n",
        "a=np.array(a)\n",
        "print(a)\n",
        "\n"
      ],
      "metadata": {
        "colab": {
          "base_uri": "https://localhost:8080/"
        },
        "id": "YsnmGqroMf3Q",
        "outputId": "3a806e4b-a380-499e-962d-2856ea274947"
      },
      "execution_count": null,
      "outputs": [
        {
          "output_type": "stream",
          "name": "stdout",
          "text": [
            "[1 2 3 5]\n"
          ]
        }
      ]
    },
    {
      "cell_type": "code",
      "source": [
        "import numpy as np\n",
        "\n",
        "x = np.random.rand(10)# one dimension array\n",
        "random.shuffle(x)\n",
        "print(x)\n",
        "a=x*10003\n",
        "print(a)\n",
        "r=np.round(a,0)\n",
        "print(r)\n"
      ],
      "metadata": {
        "colab": {
          "base_uri": "https://localhost:8080/"
        },
        "id": "6ZT2NzlONbkS",
        "outputId": "fbf1f7aa-1065-42e1-ef1b-0861c74b5a2b"
      },
      "execution_count": null,
      "outputs": [
        {
          "output_type": "stream",
          "name": "stdout",
          "text": [
            "[0.91401262 0.56911497 0.18074464 0.58777979 0.11843196 0.60571009\n",
            " 0.84391386 0.59180826 0.38387078 0.19645949]\n",
            "[9142.86828649 5692.8570853  1807.98866928 5879.56121224 1184.67490507\n",
            " 6058.91802179 8441.67036479 5919.85800407 3839.85940207 1965.18426019]\n",
            "[9143. 5693. 1808. 5880. 1185. 6059. 8442. 5920. 3840. 1965.]\n"
          ]
        }
      ]
    },
    {
      "cell_type": "code",
      "source": [
        "#important concept (probability)\n",
        "from numpy import random\n",
        "\n",
        "x = random.choice([3.5, 5.7, 7.9, 9.3], p=[0.1, 0.8, 0.0, 0.1], size=(100))\n",
        "\n",
        "print(x)\n"
      ],
      "metadata": {
        "colab": {
          "base_uri": "https://localhost:8080/"
        },
        "id": "vGtc-Ki2OqUh",
        "outputId": "a66b7fb7-6ce6-45f3-b87d-8ab8d83788b9"
      },
      "execution_count": null,
      "outputs": [
        {
          "output_type": "stream",
          "name": "stdout",
          "text": [
            "[5.7 5.7 5.7 5.7 5.7 3.5 5.7 5.7 5.7 9.3 5.7 5.7 9.3 5.7 5.7 5.7 5.7 5.7\n",
            " 9.3 9.3 5.7 5.7 5.7 5.7 5.7 5.7 5.7 5.7 5.7 5.7 5.7 5.7 5.7 5.7 5.7 5.7\n",
            " 3.5 5.7 5.7 5.7 5.7 5.7 5.7 5.7 5.7 5.7 5.7 5.7 5.7 5.7 5.7 3.5 5.7 3.5\n",
            " 5.7 5.7 5.7 5.7 5.7 5.7 5.7 5.7 3.5 3.5 5.7 3.5 5.7 5.7 5.7 5.7 9.3 5.7\n",
            " 5.7 5.7 5.7 9.3 5.7 9.3 9.3 5.7 5.7 5.7 5.7 5.7 5.7 9.3 9.3 5.7 9.3 5.7\n",
            " 5.7 9.3 5.7 5.7 5.7 5.7 5.7 9.3 5.7 5.7]\n"
          ]
        }
      ]
    },
    {
      "cell_type": "code",
      "source": [
        "#random Excel creation\n",
        "import numpy as np\n",
        "from numpy import random\n",
        "import pandas as pd\n",
        "\n",
        "arr = ['Arun', 'Akash', 'Sanjay', 'Manu']\n",
        "a=np.random.choice(arr, 1500, p=[0.5, 0.1, 0.1, 0.3])\n",
        "b = random.choice([30, 52, 72, 91,80,60], p=[0.1, 0.2, 0.3, 0.1,0.1,0.2], size=(1500))\n",
        "c = random.choice([30, 52, 72, 91,80,60], p=[0.1, 0.2, 0.3, 0.1,0.1,0.2], size=(1500))\n",
        "d = random.choice([30, 52, 72, 91,80,60], p=[0.1, 0.2, 0.3, 0.1,0.1,0.2], size=(1500))\n",
        "e = random.choice([30, 52, 72, 91,80,60], p=[0.1, 0.2, 0.3, 0.1,0.1,0.2], size=(1500))\n",
        "f = random.choice([30, 52, 72, 91,80,60], p=[0.1, 0.2, 0.3, 0.1,0.1,0.2], size=(1500))\n",
        "\n",
        "frame={\"Name\":a, \"M1\":b, \"M2\":b, \"M3\":c,\"M4\":d,\"M5\":e,\"M6\":f}\n",
        "df=pd.DataFrame(frame)\n",
        "print(df)\n",
        "df.to_excel('mark.xlsx', index=False)"
      ],
      "metadata": {
        "colab": {
          "base_uri": "https://localhost:8080/"
        },
        "id": "1RMdJjdaP7jH",
        "outputId": "597bc013-b969-4005-d7fa-82bcdcf6a11f"
      },
      "execution_count": null,
      "outputs": [
        {
          "output_type": "stream",
          "name": "stdout",
          "text": [
            "        Name  M1  M2  M3  M4  M5  M6\n",
            "0       Manu  30  30  72  91  60  80\n",
            "1       Manu  72  72  72  30  72  60\n",
            "2       Arun  80  80  30  72  52  80\n",
            "3      Akash  52  52  52  80  72  91\n",
            "4       Arun  60  60  91  80  52  60\n",
            "...      ...  ..  ..  ..  ..  ..  ..\n",
            "1495    Manu  60  60  72  52  52  60\n",
            "1496  Sanjay  52  52  72  52  60  52\n",
            "1497    Arun  80  80  60  72  52  72\n",
            "1498    Manu  60  60  72  72  72  52\n",
            "1499    Arun  72  72  52  72  91  72\n",
            "\n",
            "[1500 rows x 7 columns]\n"
          ]
        }
      ]
    },
    {
      "cell_type": "code",
      "source": [
        "#random Excel creation\n",
        "import numpy as np\n",
        "from numpy import random\n",
        "import pandas as pd\n",
        "\n",
        "arr = ['A', 'B', 'C', 'D']\n",
        "# The size for 'a' should be the same as the other columns (2500)\n",
        "a = np.random.choice(arr, 2500, p=[0.5, 0.1, 0.1, 0.3])\n",
        "b = random.choice([0.91401262, 0.56911497 ,0.18074464, 0.58777979, 0.11843196, 0.60571009], p=[0.1, 0.2, 0.3, 0.1,0.1,0.2], size=(2500))\n",
        "c = random.choice([9142.86828649, 5692.8570853,  1807.98866928, 5879.56121224 ,1184.67490507, 6058.91802179], p=[0.1, 0.2, 0.3, 0.1,0.1,0.2], size=(2500))\n",
        "d = random.choice([30, 52, 72, 91,80,60], p=[0.1, 0.2, 0.3, 0.1,0.1,0.2], size=(2500))\n",
        "e = random.choice([30, 52, 72, 91,80,60], p=[0.1, 0.2, 0.3, 0.1,0.1,0.2], size=(2500))\n",
        "f = random.choice([30, 52, 72, 91,80,60], p=[0.1, 0.2, 0.3, 0.1,0.1,0.2], size=(2500))\n",
        "\n",
        "frame={\"Name\":a, \"M1\":b, \"M2\":b, \"M3\":c,\"M4\":d,\"M5\":e,\"M6\":f}\n",
        "df=pd.DataFrame(frame)\n",
        "print(df)\n",
        "df.to_excel('mark.xlsx', index=False)"
      ],
      "metadata": {
        "colab": {
          "base_uri": "https://localhost:8080/"
        },
        "id": "v6xU9UbfRvhB",
        "outputId": "508c9398-8538-4220-a7df-8006655711ae"
      },
      "execution_count": null,
      "outputs": [
        {
          "output_type": "stream",
          "name": "stdout",
          "text": [
            "     Name        M1        M2           M3  M4  M5  M6\n",
            "0       A  0.914013  0.914013  1807.988669  72  52  60\n",
            "1       A  0.914013  0.914013  5879.561212  60  30  72\n",
            "2       A  0.569115  0.569115  1807.988669  52  52  72\n",
            "3       C  0.180745  0.180745  5692.857085  91  80  30\n",
            "4       C  0.605710  0.605710  1184.674905  72  52  72\n",
            "...   ...       ...       ...          ...  ..  ..  ..\n",
            "2495    A  0.118432  0.118432  1807.988669  72  80  72\n",
            "2496    D  0.118432  0.118432  9142.868286  91  72  72\n",
            "2497    D  0.180745  0.180745  1184.674905  52  91  52\n",
            "2498    A  0.180745  0.180745  1807.988669  30  30  72\n",
            "2499    A  0.587780  0.587780  9142.868286  72  72  72\n",
            "\n",
            "[2500 rows x 7 columns]\n"
          ]
        }
      ]
    },
    {
      "cell_type": "code",
      "source": [
        "#rng used to suffle\n",
        "import numpy as np\n",
        "# Initialize random number generator\n",
        "rng = np.random.default_rng()\n",
        "# Generate random integers between 1 and 2 (inclusive)\n",
        "num_records = 10\n",
        "random_numbers = rng.integers(1, 3, size=num_records)\n",
        "print(random_numbers)"
      ],
      "metadata": {
        "colab": {
          "base_uri": "https://localhost:8080/"
        },
        "id": "gZ__NwB7WREC",
        "outputId": "59c11cef-5e44-4408-a440-451943f2a7e0"
      },
      "execution_count": null,
      "outputs": [
        {
          "output_type": "stream",
          "name": "stdout",
          "text": [
            "[1 2 2 1 2 2 1 1 2 2]\n"
          ]
        }
      ]
    },
    {
      "cell_type": "code",
      "source": [
        "##uniform method in rng\n",
        "#float cant be given\n",
        "import numpy as np\n",
        "# Initialize random number generator\n",
        "rng = np.random.default_rng()\n",
        "# Generate random floating-point numbers between 1 and 3\n",
        "num_records = 10\n",
        "random_numbers = rng.uniform(1, 3, size=num_records)\n",
        "print(random_numbers)"
      ],
      "metadata": {
        "colab": {
          "base_uri": "https://localhost:8080/"
        },
        "id": "6ZtC1qpgWy3u",
        "outputId": "1a4054be-1b6b-414e-e568-652eefd5af92"
      },
      "execution_count": null,
      "outputs": [
        {
          "output_type": "stream",
          "name": "stdout",
          "text": [
            "[2.95725172 2.34678904 1.73761024 2.11911505 1.1710832  1.24479651\n",
            " 2.09846354 1.11048074 1.62911201 1.74515977]\n"
          ]
        }
      ]
    },
    {
      "cell_type": "code",
      "source": [
        "#choice\n",
        "import numpy as np# Generate 10 unique random integers between 1 and 100\n",
        "# Initialize random number generator\n",
        "rng = np.random.default_rng()\n",
        "# Generate 10 unique random integers between 1 and 100\n",
        "num_records = 10\n",
        "unique_integers = rng.choice(np.arange(1, 101), size=num_records, replace=False)\n",
        "print(unique_integers)"
      ],
      "metadata": {
        "colab": {
          "base_uri": "https://localhost:8080/"
        },
        "id": "8IE-lONrXUEK",
        "outputId": "a6ef3911-d516-4752-8ca1-c59f188cf8a3"
      },
      "execution_count": null,
      "outputs": [
        {
          "output_type": "stream",
          "name": "stdout",
          "text": [
            "[ 83  80  23  74  78  66  90 100  81  37]\n"
          ]
        }
      ]
    },
    {
      "cell_type": "code",
      "source": [
        "#names\n",
        "import numpy as np\n",
        "# Initialize random number generator\n",
        "rng = np.random.default_rng()\n",
        "# List of sample names\n",
        "name_list = [\"John\", \"Alice\",  \"Sophia\", \"Liam\", \"Emma\", \"Noah\", \"Olivia\", \"James\", \"Mia\"]\n",
        "# Number of names to generate\n",
        "num_records = 200\n",
        "# Generate random names by selecting from the name_list\n",
        "random_names = rng.choice(name_list, size=num_records, replace=True)\n",
        "# Print the random names\n",
        "print(random_names)"
      ],
      "metadata": {
        "colab": {
          "base_uri": "https://localhost:8080/"
        },
        "id": "kz29yriQX3xQ",
        "outputId": "f7cbf3bc-b6fb-4f6f-8aaf-ad8ccf41523d"
      },
      "execution_count": null,
      "outputs": [
        {
          "output_type": "stream",
          "name": "stdout",
          "text": [
            "['Sophia' 'John' 'Noah' 'John' 'Noah' 'Alice' 'Sophia' 'John' 'Sophia'\n",
            " 'Alice' 'Alice' 'Noah' 'Emma' 'John' 'Emma' 'Mia' 'James' 'Emma' 'Emma'\n",
            " 'John' 'Emma' 'Noah' 'Emma' 'John' 'Emma' 'Noah' 'Alice' 'Emma' 'Sophia'\n",
            " 'Sophia' 'Noah' 'James' 'Liam' 'Olivia' 'Alice' 'Mia' 'Mia' 'James'\n",
            " 'Sophia' 'Mia' 'Mia' 'John' 'Sophia' 'Alice' 'James' 'Alice' 'James'\n",
            " 'James' 'Liam' 'Sophia' 'Noah' 'Noah' 'Mia' 'James' 'John' 'Noah' 'James'\n",
            " 'Alice' 'Emma' 'Mia' 'Emma' 'Alice' 'Mia' 'Mia' 'John' 'James' 'Liam'\n",
            " 'Alice' 'Mia' 'Mia' 'James' 'John' 'James' 'Olivia' 'John' 'Noah' 'Liam'\n",
            " 'Alice' 'Noah' 'Alice' 'Alice' 'Emma' 'Sophia' 'Sophia' 'Olivia' 'Sophia'\n",
            " 'Mia' 'Liam' 'Sophia' 'Olivia' 'John' 'John' 'Olivia' 'Sophia' 'Olivia'\n",
            " 'Alice' 'Alice' 'Noah' 'James' 'James' 'Olivia' 'James' 'Emma' 'Emma'\n",
            " 'Olivia' 'Emma' 'Noah' 'John' 'James' 'Emma' 'Mia' 'Emma' 'Noah' 'Olivia'\n",
            " 'John' 'Alice' 'Liam' 'John' 'James' 'Mia' 'Olivia' 'Liam' 'Mia' 'Liam'\n",
            " 'Emma' 'Mia' 'Emma' 'Olivia' 'Emma' 'Sophia' 'Alice' 'Liam' 'Olivia'\n",
            " 'James' 'Alice' 'Liam' 'Emma' 'John' 'Olivia' 'Sophia' 'Alice' 'Alice'\n",
            " 'Liam' 'Liam' 'Noah' 'John' 'James' 'Mia' 'Alice' 'John' 'Alice' 'Noah'\n",
            " 'John' 'Emma' 'Emma' 'Sophia' 'Noah' 'John' 'Noah' 'Olivia' 'James'\n",
            " 'Olivia' 'James' 'James' 'Emma' 'Sophia' 'Noah' 'Emma' 'Mia' 'Noah'\n",
            " 'Noah' 'John' 'Liam' 'James' 'Alice' 'Noah' 'John' 'Emma' 'Noah' 'James'\n",
            " 'Liam' 'Mia' 'John' 'Liam' 'Mia' 'Sophia' 'Emma' 'James' 'Noah' 'Sophia'\n",
            " 'Sophia' 'Emma' 'Alice' 'Emma' 'Olivia' 'Sophia' 'Liam' 'Liam' 'James'\n",
            " 'Alice']\n"
          ]
        }
      ]
    },
    {
      "cell_type": "code",
      "source": [
        "#ML sales 15 data\n",
        "import numpy as np\n",
        "from numpy import random\n",
        "import pandas as pd\n",
        "def name():\n",
        "    arr = ['Arun', 'Akash', 'Sanjay', 'Manu']\n",
        "    n=np.random.choice(arr, 15, p=[0.5, 0.1, 0.1, 0.3])\n",
        "    return n\n",
        "def month():\n",
        "    m1 = random.choice([1,2,3,4,5,6,7,8,9,10,11,12], p=[0.1, 0.1, 0.1, 0.1,0.1,0.1,0.1, 0.1, 0.05, 0.05,0.05,0.05], size=(15))\n",
        "    return m1\n",
        "def id():\n",
        "    id = np.arange(15)\n",
        "def unitprice():\n",
        "     x = np.random.rand(15)\n",
        "     x1=x*1000\n",
        "     unit = np.round(x1, decimals=0)\n",
        "     return unit\n",
        "def quan():\n",
        "    y = random.uniform(size=(15))\n",
        "    y1=y*100\n",
        "    q = np.round(y1, decimals=0)\n",
        "    return q\n",
        "def location():\n",
        "    country_names = [\"USA\", \"Canada\", \"UK\", \"Germany\", \"France\", \"Japan\", \"Australia\"]\n",
        "    c=np.random.choice(country_names, 15, p=[0.3, 0.1, 0.1, 0.1,0.1,0.1,0.2])\n",
        "    return c\n",
        "def coustomerid():\n",
        "    z = np.arange(300, 320)\n",
        "    x = random.choice(z, p=[0.05]*len(z), size=(15))\n",
        "    return x\n",
        "def prodid():\n",
        "    y = random.uniform(size=(15))\n",
        "    y1=y*100\n",
        "    p = np.round(y1, decimals=2)\n",
        "    np.random.shuffle(p)\n",
        "    return p\n",
        "def storeid():\n",
        "    z = np.arange(1300, 1320)\n",
        "    x = random.choice(z, p=[0.05]*len(z), size=(15))\n",
        "    return x\n",
        "def storesize():\n",
        "    arr = ['Premium', 'Branded', 'Valueformoney', 'Economy','Sale','Factoryoutlet','Retail']\n",
        "    n=np.random.choice(arr, 15, p=[0.2, 0.1, 0.1, 0.2,0.1,0.2,0.1])\n",
        "    return n\n",
        "def closetime():\n",
        "    ohrs1 = random.choice([21,22,23,20], p=[0.2, 0.2, 0.2, 0.4], size=(15))\n",
        "    return ohrs1\n",
        "def adv():#advertise rating star\n",
        "    adv=random.choice([1,2,3,4,5], p=[0.2, 0.2, 0.2, 0.2,0.2], size=(15))\n",
        "    return adv\n",
        "\n",
        "def com():#competetor price\n",
        "    com=random.choice([\"High\",\"Low\",\"Equal\"], p=[0.2, 0.2, 0.6], size=(15))\n",
        "    return com\n",
        "def sup():#supply\n",
        "    sup=random.choice([\"Surplus\",\"LowStock\",\"StockAvailable\"], p=[0.2, 0.2, 0.6], size=(15))\n",
        "    return sup\n",
        "def paytype():\n",
        "    pay=random.choice([\"CreditCard\",\"DebitCard\",\"Cash\",\"UPI\",\"EMI\"], p=[0.4, 0.1, 0.1,0.1,0.3], size=(15))\n",
        "    return pay\n",
        "def profit():#profit in per\n",
        "    profit=random.choice([10,15,5,20,25], p=[0.4, 0.1, 0.1,0.1,0.3], size=(15))\n",
        "    return profit\n",
        "def feedback():\n",
        "    feed=random.choice([1,2,3,4,5], p=[0.2, 0.2, 0.2, 0.2,0.2], size=(15))\n",
        "    return feed\n",
        "\n",
        "def infra():\n",
        "    infra=random.choice([\"Own\",\"Rented\", \"Sponsored\"], p=[0.2, 0.5, 0.3], size=(15))\n",
        "    return infra\n",
        "def parking():\n",
        "    park=random.choice([\"Spacious\",\"Available\", \"NotAvailable\"], p=[0.2, 0.5, 0.3], size=(15))\n",
        "    return park\n",
        "def emp():\n",
        "    emp=random.choice([\"50+\",\"below_50\", \"100+\"], p=[0.2, 0.5, 0.3], size=(15))\n",
        "    return emp\n",
        "name=name()\n",
        "month=month()\n",
        "price=unitprice()\n",
        "Q=quan()\n",
        "L=location()\n",
        "cid=coustomerid()\n",
        "pid=prodid()\n",
        "sid=storeid()\n",
        "storesize=storesize()\n",
        "closetime=closetime()\n",
        "a=adv()#advertisement\n",
        "c=com()#competetor price\n",
        "supply=sup()#supply\n",
        "payment=paytype()\n",
        "profit=profit()\n",
        "feedb=feedback()\n",
        "infra=infra()\n",
        "parking=parking()\n",
        "emp=emp()\n",
        "frame = {\n",
        "    \"StoreID\": sid,\n",
        "    \"StoreSize\": storesize,\n",
        "    \"Parking\": parking,\n",
        "    \"ClosingTime\": closetime,\n",
        "    \"Month\": month,\n",
        "    \"CustomerID\": cid,\n",
        "    \"ProductID\": pid,\n",
        "    \"UnitPrice\": price,\n",
        "    \"Quantity\": Q,\n",
        "    \"CompetitorPrice\": c,\n",
        "    \"Supply\": supply,\n",
        "    \"Profit_percentage\": profit,\n",
        "    \"Advertisementstar\": a,\n",
        "    \"PaymentType\": payment,\n",
        "    \"Employee\": emp,\n",
        "    \"Feedbackstar\": feedb\n",
        "}\n",
        "dfsales=pd.DataFrame(frame)\n",
        "print(dfsales)\n",
        "dfsales.to_excel('sales1.xlsx', index=False)"
      ],
      "metadata": {
        "id": "MQjNh7KfZVna",
        "outputId": "65ddf072-80ee-4335-c4d2-8876200a56f0",
        "colab": {
          "base_uri": "https://localhost:8080/"
        }
      },
      "execution_count": null,
      "outputs": [
        {
          "output_type": "stream",
          "name": "stdout",
          "text": [
            "    StoreID      StoreSize       Parking  ClosingTime  Month  CustomerID  \\\n",
            "0      1316  Valueformoney     Available           23     12         313   \n",
            "1      1308         Retail     Available           20     12         316   \n",
            "2      1308        Economy      Spacious           20      4         313   \n",
            "3      1310        Economy     Available           20     12         317   \n",
            "4      1308        Premium      Spacious           20      2         308   \n",
            "5      1303        Premium     Available           20      5         310   \n",
            "6      1308  Factoryoutlet      Spacious           20      3         317   \n",
            "7      1315         Retail  NotAvailable           21      4         303   \n",
            "8      1313  Factoryoutlet      Spacious           20      6         318   \n",
            "9      1312  Valueformoney      Spacious           20      7         316   \n",
            "10     1302        Economy     Available           20      9         313   \n",
            "11     1308  Valueformoney      Spacious           20      4         300   \n",
            "12     1317        Premium     Available           23      5         308   \n",
            "13     1306        Premium     Available           20      2         305   \n",
            "14     1308  Factoryoutlet      Spacious           22     11         311   \n",
            "\n",
            "    ProductID  UnitPrice  Quantity CompetitorPrice          Supply  \\\n",
            "0       51.05      886.0      37.0            High        LowStock   \n",
            "1       93.40      346.0      82.0             Low  StockAvailable   \n",
            "2       83.61      649.0      75.0           Equal  StockAvailable   \n",
            "3       51.22      978.0      50.0             Low  StockAvailable   \n",
            "4       37.23      446.0       3.0           Equal  StockAvailable   \n",
            "5        1.44      790.0      77.0           Equal        LowStock   \n",
            "6       51.46      150.0       7.0             Low         Surplus   \n",
            "7       68.44       40.0      36.0           Equal         Surplus   \n",
            "8       64.68      492.0      98.0            High  StockAvailable   \n",
            "9       83.32      324.0      65.0            High  StockAvailable   \n",
            "10      87.97      662.0      36.0           Equal  StockAvailable   \n",
            "11      73.50      361.0      45.0             Low         Surplus   \n",
            "12      92.80      223.0      17.0           Equal         Surplus   \n",
            "13      48.87      958.0      68.0           Equal         Surplus   \n",
            "14       3.28      550.0      57.0            High         Surplus   \n",
            "\n",
            "    Profit_percentage  Advertisementstar PaymentType  Employee  Feedbackstar  \n",
            "0                   5                  1         UPI       50+             2  \n",
            "1                  10                  4         EMI      100+             1  \n",
            "2                  20                  5  CreditCard      100+             5  \n",
            "3                  20                  4   DebitCard  below_50             2  \n",
            "4                  10                  5  CreditCard  below_50             2  \n",
            "5                  10                  3         UPI      100+             2  \n",
            "6                  25                  3        Cash  below_50             3  \n",
            "7                   5                  5         EMI  below_50             4  \n",
            "8                  25                  1  CreditCard  below_50             5  \n",
            "9                  20                  2  CreditCard      100+             3  \n",
            "10                 10                  4         EMI      100+             1  \n",
            "11                 10                  1  CreditCard  below_50             3  \n",
            "12                 25                  4  CreditCard  below_50             5  \n",
            "13                 10                  5        Cash      100+             5  \n",
            "14                 20                  2  CreditCard       50+             5  \n"
          ]
        }
      ]
    }
  ]
}